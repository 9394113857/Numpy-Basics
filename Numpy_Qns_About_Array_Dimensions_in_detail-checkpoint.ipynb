{
 "cells": [
  {
   "cell_type": "markdown",
   "metadata": {
    "id": "SDyV2UZuBio5"
   },
   "source": [
    "**Purpose of using NumPy:**\n",
    "\n",
    "1. NumPy is a fundamental package for scientific computing with Python.\n",
    "2. It provides support for efficient numerical operations on multi-dimensional arrays and matrices.\n",
    "3. NumPy is used to perform mathematical and logical operations on arrays, manipulate large datasets, and work with linear algebra, Fourier transforms, and more.\n",
    "4. It's a cornerstone library for data science, machine learning, and scientific research due to its speed and flexibility."
   ]
  },
  {
   "cell_type": "code",
   "execution_count": null,
   "metadata": {
    "id": "g1MZNCKUBlAi"
   },
   "outputs": [],
   "source": []
  },
  {
   "cell_type": "markdown",
   "metadata": {
    "id": "UOQxuz3WB1hl"
   },
   "source": [
    "**Creating a 3x3 NumPy matrix from a Python list:**"
   ]
  },
  {
   "cell_type": "code",
   "execution_count": 27,
   "metadata": {
    "colab": {
     "base_uri": "https://localhost:8080/"
    },
    "id": "OwPiWZpSB2ia",
    "outputId": "d07ec9ed-4109-4742-a5a4-cad7ceb3c168"
   },
   "outputs": [
    {
     "data": {
      "text/plain": [
       "array([[1, 2, 3],\n",
       "       [4, 5, 6],\n",
       "       [7, 8, 9]])"
      ]
     },
     "execution_count": 27,
     "metadata": {},
     "output_type": "execute_result"
    }
   ],
   "source": [
    "import numpy as np\n",
    "\n",
    "python_list = [1,2,3,4,5,6,7,8,9]\n",
    "numpy_matrix = np.array(python_list).reshape(3,3)\n",
    "numpy_matrix"
   ]
  },
  {
   "cell_type": "code",
   "execution_count": 28,
   "metadata": {
    "colab": {
     "base_uri": "https://localhost:8080/"
    },
    "id": "Nd1JiV5tB_Q-",
    "outputId": "f2c9fea1-4f9c-4ef9-bd68-6f4c9009460a"
   },
   "outputs": [
    {
     "data": {
      "text/plain": [
       "numpy.ndarray"
      ]
     },
     "execution_count": 28,
     "metadata": {},
     "output_type": "execute_result"
    }
   ],
   "source": [
    "type(numpy_matrix)"
   ]
  },
  {
   "cell_type": "code",
   "execution_count": null,
   "metadata": {
    "id": "8udTFtkLCVIY"
   },
   "outputs": [],
   "source": []
  },
  {
   "cell_type": "markdown",
   "metadata": {
    "id": "DT3j5GuHDDLx"
   },
   "source": [
    "**Role of numpy.array() in conversion:**\n",
    "\n",
    "1. The numpy.array() function is used to create a NumPy array from a Python list or tuple.\n",
    "2. It converts the input data into an array format that supports efficient element-wise operations and other numerical computations."
   ]
  },
  {
   "cell_type": "code",
   "execution_count": 29,
   "metadata": {
    "colab": {
     "base_uri": "https://localhost:8080/"
    },
    "id": "9Ncvb1KXDEHM",
    "outputId": "c8b6886f-3c5f-4beb-ec01-bcb21286df26"
   },
   "outputs": [
    {
     "data": {
      "text/plain": [
       "(1, 2, 3, 4, 5, 6, 7, 8, 9)"
      ]
     },
     "execution_count": 29,
     "metadata": {},
     "output_type": "execute_result"
    }
   ],
   "source": [
    "import numpy as np\n",
    "\n",
    "python_tuple = (1, 2, 3, 4, 5, 6, 7, 8, 9)\n",
    "python_tuple"
   ]
  },
  {
   "cell_type": "code",
   "execution_count": 30,
   "metadata": {
    "colab": {
     "base_uri": "https://localhost:8080/"
    },
    "id": "VKUGPlKUEbXP",
    "outputId": "f81a6342-f084-4e1d-eacd-091b9333af20"
   },
   "outputs": [
    {
     "data": {
      "text/plain": [
       "array([1, 2, 3, 4, 5, 6, 7, 8, 9])"
      ]
     },
     "execution_count": 30,
     "metadata": {},
     "output_type": "execute_result"
    }
   ],
   "source": [
    "numpy_matrix_from_tuple = np.array(python_tuple)\n",
    "\n",
    "numpy_matrix_from_tuple # without reshape"
   ]
  },
  {
   "cell_type": "code",
   "execution_count": 31,
   "metadata": {
    "colab": {
     "base_uri": "https://localhost:8080/"
    },
    "id": "-u1HwEULEB-g",
    "outputId": "de168874-e12b-4b60-9053-356b2f22fa8f"
   },
   "outputs": [
    {
     "data": {
      "text/plain": [
       "array([[1, 2, 3],\n",
       "       [4, 5, 6],\n",
       "       [7, 8, 9]])"
      ]
     },
     "execution_count": 31,
     "metadata": {},
     "output_type": "execute_result"
    }
   ],
   "source": [
    "numpy_matrix.reshape(3,3)"
   ]
  },
  {
   "cell_type": "markdown",
   "metadata": {
    "id": "Q3cEa9bRDyV-"
   },
   "source": [
    "1. In this example, the **np.array()** function is used to create a **NumPy array** from the python_tuple.\n",
    "2. And then the **reshape()** function is used to reshape the array into a **3x3 matrix.**\n",
    "3. The result will be the same as when you used a list."
   ]
  },
  {
   "cell_type": "code",
   "execution_count": null,
   "metadata": {
    "id": "LufoMngPDliM"
   },
   "outputs": [],
   "source": []
  },
  {
   "cell_type": "markdown",
   "metadata": {
    "id": "eEZcDOE0Hb6q"
   },
   "source": [
    "**reshape() method for creating a 3x3 matrix:**\n",
    "\n",
    "1. The **reshape()** method in NumPy allows you to change the shape of an array without changing its data.\n",
    "2. It helps in converting a **1-dimensional** array into a multi-dimensional array like a 3x3 matrix.\n",
    "3. The method ensures that the total number of elements remains the same before and after reshaping."
   ]
  },
  {
   "cell_type": "code",
   "execution_count": null,
   "metadata": {
    "id": "2voe1I5uHpeD"
   },
   "outputs": [],
   "source": []
  },
  {
   "cell_type": "markdown",
   "metadata": {
    "id": "TtinOJCSIb3L"
   },
   "source": [
    "**Creating a 3x3 NumPy matrix from a different Python list:**"
   ]
  },
  {
   "cell_type": "code",
   "execution_count": 32,
   "metadata": {
    "id": "CpZ321zJIcuG"
   },
   "outputs": [],
   "source": [
    "import numpy as np\n",
    "\n",
    "python_list_2 = [9, 8, 7, 6, 5, 4, 3, 2, 1]\n",
    "numpy_matrix_2 = np.array(python_list_2).reshape(3, 3)\n"
   ]
  },
  {
   "cell_type": "code",
   "execution_count": 33,
   "metadata": {
    "colab": {
     "base_uri": "https://localhost:8080/"
    },
    "id": "rtN08T6AIfdd",
    "outputId": "231a0c77-0a55-45ed-b9b1-99a03d073ee0"
   },
   "outputs": [
    {
     "data": {
      "text/plain": [
       "array([[9, 8, 7],\n",
       "       [6, 5, 4],\n",
       "       [3, 2, 1]])"
      ]
     },
     "execution_count": 33,
     "metadata": {},
     "output_type": "execute_result"
    }
   ],
   "source": [
    "numpy_matrix_2"
   ]
  },
  {
   "cell_type": "code",
   "execution_count": null,
   "metadata": {
    "id": "seRbPTxNIhxg"
   },
   "outputs": [],
   "source": []
  },
  {
   "cell_type": "markdown",
   "metadata": {
    "id": "XWjCPgGBJsme"
   },
   "source": [
    "**Creating a 3x3 NumPy matrix with a different number of elements:**\n",
    "\n",
    "1. **No,** you cannot create a **3x3** matrix from a Python list with a different number of elements.\n",
    "2. The total number of elements in the **list must match the total number of elements** in the desired matrix shape **(3x3 in this case).**"
   ]
  },
  {
   "cell_type": "code",
   "execution_count": null,
   "metadata": {
    "id": "PFGGtuJWJtqQ"
   },
   "outputs": [],
   "source": []
  },
  {
   "cell_type": "markdown",
   "metadata": {
    "id": "QevTQEiSKfsh"
   },
   "source": [
    "**Code snippet that would give an error due to a different number of elements:**"
   ]
  },
  {
   "cell_type": "code",
   "execution_count": 34,
   "metadata": {
    "id": "ZcPySCumKgz4"
   },
   "outputs": [],
   "source": [
    "import numpy as np\n",
    "\n",
    "# Incorrect: Trying to create a 3x3 matrix from a list with 5 elements\n",
    "# incorrect_list = [1, 2, 3, 4, 5]\n",
    "# incorrect_matrix = np.array(incorrect_list).reshape(3, 3)\n",
    "\n",
    "# This will raise a 'ValueError' because the number of elements in the list (5) is not equal to 3x3 (9) elements.\n"
   ]
  },
  {
   "cell_type": "code",
   "execution_count": null,
   "metadata": {
    "id": "ZwvUBN0KKh85"
   },
   "outputs": [],
   "source": []
  },
  {
   "cell_type": "markdown",
   "metadata": {
    "id": "Cc-uI829Kqks"
   },
   "source": [
    "**Code snippet that creates a 3x3 matrix as expected:**"
   ]
  },
  {
   "cell_type": "code",
   "execution_count": 35,
   "metadata": {
    "colab": {
     "base_uri": "https://localhost:8080/"
    },
    "id": "llDABMqNKtGZ",
    "outputId": "dc2f27d5-fa37-4b73-990a-44f8964de0b1"
   },
   "outputs": [
    {
     "data": {
      "text/plain": [
       "array([[1, 2, 3],\n",
       "       [4, 5, 6],\n",
       "       [7, 8, 9]])"
      ]
     },
     "execution_count": 35,
     "metadata": {},
     "output_type": "execute_result"
    }
   ],
   "source": [
    "import numpy as np\n",
    "\n",
    "# Correct: Creating a 3x3 matrix from a list with 9 elements\n",
    "correct_list = [1, 2, 3, 4, 5, 6, 7, 8, 9]\n",
    "correct_matrix = np.array(correct_list).reshape(3, 3)\n",
    "\n",
    "correct_matrix"
   ]
  },
  {
   "cell_type": "markdown",
   "metadata": {
    "id": "2uRIJEBBK41R"
   },
   "source": [
    "1. In the first code snippet, attempting to reshape a list with 5 elements into a 3x3 matrix leads to a ValueError because the total number of elements in the list is not compatible with the desired matrix shape.\n",
    "2. In the second code snippet, we create a 3x3 matrix using a list with 9 elements, which matches the total number of elements required for a 3x3 matrix. The output demonstrates the correctly shaped 3x3 matrix."
   ]
  },
  {
   "cell_type": "code",
   "execution_count": null,
   "metadata": {
    "id": "yPbF8B2kKuVB"
   },
   "outputs": [],
   "source": []
  },
  {
   "cell_type": "markdown",
   "metadata": {
    "id": "i4DdbfuZLFl4"
   },
   "source": [
    "**Handling mismatched number of elements:**\n",
    "\n",
    "1. If the number of elements in the Python list does not match the desired matrix size, a **ValueError** will be raised when attempting to reshape.\n",
    "2. To handle such cases, ensure that the input list has the **correct number of elements** or preprocess the data accordingly.\n",
    "\n",
    "**Note:**\n",
    "A 3x3 matrix needs a total of 9 elements to fill all its positions. Given only 5 elements, you won't have enough elements to populate the entire matrix."
   ]
  },
  {
   "cell_type": "code",
   "execution_count": null,
   "metadata": {
    "id": "0Pc1CNrHLGaL"
   },
   "outputs": [],
   "source": []
  },
  {
   "cell_type": "markdown",
   "metadata": {
    "id": "9kZgmWMYMFZP"
   },
   "source": [
    "**Accessing and modifying elements in a NumPy matrix:**\n",
    "\n",
    "You can access and modify elements in a NumPy matrix using indexing. For example:"
   ]
  },
  {
   "cell_type": "code",
   "execution_count": 36,
   "metadata": {
    "id": "pmT6r5RmMGPT"
   },
   "outputs": [],
   "source": [
    "element = numpy_matrix[1, 2]  # Accessing element in the second row, third column\n",
    "numpy_matrix[0, 0] = 99       # Modifying element in the first row, first column\n"
   ]
  },
  {
   "cell_type": "code",
   "execution_count": 37,
   "metadata": {
    "colab": {
     "base_uri": "https://localhost:8080/"
    },
    "id": "QMpCkcqYMJ2e",
    "outputId": "3580f156-bb16-43df-a80e-e2f5274a53a5"
   },
   "outputs": [
    {
     "data": {
      "text/plain": [
       "array([[99,  2,  3],\n",
       "       [ 4,  5,  6],\n",
       "       [ 7,  8,  9]])"
      ]
     },
     "execution_count": 37,
     "metadata": {},
     "output_type": "execute_result"
    }
   ],
   "source": [
    "numpy_matrix"
   ]
  },
  {
   "cell_type": "code",
   "execution_count": null,
   "metadata": {
    "id": "n-pOxPSLMUlf"
   },
   "outputs": [],
   "source": []
  },
  {
   "cell_type": "markdown",
   "metadata": {
    "id": "UmcHbIWhMfkj"
   },
   "source": [
    "**Initializing a 3x3 NumPy matrix with zeros or ones:**"
   ]
  },
  {
   "cell_type": "code",
   "execution_count": 38,
   "metadata": {
    "id": "N30VAwfXMgaQ"
   },
   "outputs": [],
   "source": [
    "zeros_matrix = np.zeros((3, 3))\n",
    "ones_matrix = np.ones((3, 3))\n"
   ]
  },
  {
   "cell_type": "code",
   "execution_count": 39,
   "metadata": {
    "colab": {
     "base_uri": "https://localhost:8080/"
    },
    "id": "MeLbiL9LMhZC",
    "outputId": "741f27a6-0601-4bb6-bc9f-da524e71d2a4"
   },
   "outputs": [
    {
     "data": {
      "text/plain": [
       "array([[0., 0., 0.],\n",
       "       [0., 0., 0.],\n",
       "       [0., 0., 0.]])"
      ]
     },
     "execution_count": 39,
     "metadata": {},
     "output_type": "execute_result"
    }
   ],
   "source": [
    "zeros_matrix"
   ]
  },
  {
   "cell_type": "code",
   "execution_count": 40,
   "metadata": {
    "colab": {
     "base_uri": "https://localhost:8080/"
    },
    "id": "r9tnikwfMjvl",
    "outputId": "f0b2f12f-3674-4570-c125-7246835db336"
   },
   "outputs": [
    {
     "data": {
      "text/plain": [
       "array([[1., 1., 1.],\n",
       "       [1., 1., 1.],\n",
       "       [1., 1., 1.]])"
      ]
     },
     "execution_count": 40,
     "metadata": {},
     "output_type": "execute_result"
    }
   ],
   "source": [
    "ones_matrix"
   ]
  },
  {
   "cell_type": "code",
   "execution_count": null,
   "metadata": {
    "id": "WRhoQ6QIMmyn"
   },
   "outputs": [],
   "source": []
  },
  {
   "cell_type": "markdown",
   "metadata": {
    "id": "LgVZnSJKOOTH"
   },
   "source": [
    "**Explanation:**\n",
    "\n",
    "The output displays the content of the zeros_matrix and ones_matrix arrays. Each matrix is a two-dimensional array because it has rows and columns. In this case, both matrices have a shape of (3, 3), meaning they have 3 rows and 3 columns.\n",
    "\n",
    "**A.** The zeros_matrix is filled with zeros. Each element in the matrix has a value of 0.0.\n",
    "\n",
    "**B.** The ones_matrix is filled with ones. Each element in the matrix has a value of 1.0.\n",
    "\n",
    "Both of these matrices are two-dimensional arrays because they have both rows and columns, forming a grid-like structure.\n",
    "\n"
   ]
  },
  {
   "cell_type": "markdown",
   "metadata": {
    "id": "GgVqs_2KMrh_"
   },
   "source": [
    "**Using NumPy for matrices instead of nested Python lists:**\n",
    "\n",
    "1. NumPy offers significantly improved performance for numerical computations compared to nested Python lists.\n",
    "2. It provides optimized, contiguous memory storage and efficient element-wise operations.\n",
    "3. This is crucial when dealing with large datasets and complex calculations, which are common in scientific computing and data analysis."
   ]
  },
  {
   "cell_type": "code",
   "execution_count": null,
   "metadata": {
    "id": "2-znkp_BMsXW"
   },
   "outputs": [],
   "source": []
  },
  {
   "cell_type": "markdown",
   "metadata": {
    "id": "7u0vXYFVPf3z"
   },
   "source": [
    "**Certainly! Here are code snippets for creating arrays of different dimensionalities with added comments for clarification:**"
   ]
  },
  {
   "cell_type": "code",
   "execution_count": 41,
   "metadata": {
    "colab": {
     "base_uri": "https://localhost:8080/"
    },
    "id": "kkcBI8B9PhNe",
    "outputId": "637fe7b0-f36c-4c6a-e3c0-816c317b26df"
   },
   "outputs": [
    {
     "data": {
      "text/plain": [
       "array([1, 2, 3, 4, 5])"
      ]
     },
     "execution_count": 41,
     "metadata": {},
     "output_type": "execute_result"
    }
   ],
   "source": [
    "import numpy as np\n",
    "\n",
    "# Creating a 1D array (vector)\n",
    "one_dim_array = np.array([1, 2, 3, 4, 5])\n",
    "one_dim_array"
   ]
  },
  {
   "cell_type": "code",
   "execution_count": 42,
   "metadata": {
    "colab": {
     "base_uri": "https://localhost:8080/"
    },
    "id": "eKsuDFqRPlZ-",
    "outputId": "07b7561c-6763-45d4-edcc-b4ca50fcae16"
   },
   "outputs": [
    {
     "data": {
      "text/plain": [
       "array([[ 1,  2,  3,  4],\n",
       "       [ 5,  6,  7,  8],\n",
       "       [ 9, 10, 11, 12]])"
      ]
     },
     "execution_count": 42,
     "metadata": {},
     "output_type": "execute_result"
    }
   ],
   "source": [
    "import numpy as np\n",
    "\n",
    "# Creating a 2D array (matrix) with 3 rows and 4 columns\n",
    "two_dim_array = np.array([[1, 2, 3, 4],\n",
    "                          [5, 6, 7, 8],\n",
    "                          [9, 10, 11, 12]])\n",
    "two_dim_array\n"
   ]
  },
  {
   "cell_type": "code",
   "execution_count": 43,
   "metadata": {
    "colab": {
     "base_uri": "https://localhost:8080/"
    },
    "id": "pTTspPd3PoRv",
    "outputId": "4d74c5d3-1e4a-44e2-a78a-d46b6d17cc5c"
   },
   "outputs": [
    {
     "data": {
      "text/plain": [
       "array([[[ 1,  2,  3,  4],\n",
       "        [ 5,  6,  7,  8],\n",
       "        [ 9, 10, 11, 12]],\n",
       "\n",
       "       [[13, 14, 15, 16],\n",
       "        [17, 18, 19, 20],\n",
       "        [21, 22, 23, 24]]])"
      ]
     },
     "execution_count": 43,
     "metadata": {},
     "output_type": "execute_result"
    }
   ],
   "source": [
    "import numpy as np\n",
    "\n",
    "# Creating a 3D array with 2 \"layers\", 3 rows, and 4 columns\n",
    "three_dim_array = np.array([[[1, 2, 3, 4],\n",
    "                             [5, 6, 7, 8],\n",
    "                             [9, 10, 11, 12]],\n",
    "\n",
    "                            [[13, 14, 15, 16],\n",
    "                             [17, 18, 19, 20],\n",
    "                             [21, 22, 23, 24]]])\n",
    "three_dim_array"
   ]
  },
  {
   "cell_type": "code",
   "execution_count": 44,
   "metadata": {
    "colab": {
     "base_uri": "https://localhost:8080/"
    },
    "id": "NUxfsVGMPwnp",
    "outputId": "e13507dc-5037-4dc7-b1e0-ba9db4a9e5e5"
   },
   "outputs": [
    {
     "data": {
      "text/plain": [
       "array([[[[ 1,  2],\n",
       "         [ 3,  4]],\n",
       "\n",
       "        [[ 5,  6],\n",
       "         [ 7,  8]]],\n",
       "\n",
       "\n",
       "       [[[ 9, 10],\n",
       "         [11, 12]],\n",
       "\n",
       "        [[13, 14],\n",
       "         [15, 16]]]])"
      ]
     },
     "execution_count": 44,
     "metadata": {},
     "output_type": "execute_result"
    }
   ],
   "source": [
    "import numpy as np\n",
    "\n",
    "# Creating an N-dimensional array (hypothetical example)\n",
    "n_dim_array = np.array([[[[1, 2], [3, 4]],\n",
    "                         [[5, 6], [7, 8]]],\n",
    "\n",
    "                        [[[9, 10], [11, 12]],\n",
    "                         [[13, 14], [15, 16]]]])\n",
    "n_dim_array"
   ]
  },
  {
   "cell_type": "markdown",
   "metadata": {
    "id": "pydBgsCnQKMF"
   },
   "source": [
    "In each of these examples, the number of indices required to access an element within the array corresponds to its dimensionality. Remember, the dimensionality is not solely determined by the number of rows or columns, but rather by the number of indices needed to pinpoint an element within the array."
   ]
  },
  {
   "cell_type": "code",
   "execution_count": null,
   "metadata": {
    "id": "O_EVUv7xP1De"
   },
   "outputs": [],
   "source": []
  },
  {
   "cell_type": "markdown",
   "metadata": {
    "id": "JASv0lvbQ38v"
   },
   "source": [
    "The dimensionality of an array refers to the number of indices required to access an element within that array. It's not directly related to the number of rows or columns. Here's a breakdown:\n",
    "\n",
    "**1-Dimensional Array:** Requires 1 index to access an element. It's like a list or a vector.\n",
    "\n",
    "**2-Dimensional Array:** Requires 2 indices to access an element, typically representing rows and columns. It's like a table.\n",
    "\n",
    "**3-Dimensional Array:** Requires 3 indices to access an element, often used for data with three dimensions like volume data.\n",
    "\n",
    "**N-Dimensional Array:** Requires N indices to access an element. These are used for data with more complex structures.\n",
    "\n",
    "**Note:** The number of rows or columns in a 2D array does not directly dictate its dimensionality. For example, a 2D array with 5 rows and 3 columns is still a 2-dimensional array because it requires two indices (row and column) to access an element.\n",
    "\n"
   ]
  },
  {
   "cell_type": "markdown",
   "metadata": {
    "id": "XKfVBs3IQcN4"
   },
   "source": [
    "**1. Number of Indices Needed:** When we talk about the \"dimensionality\" of an array, we're referring to how many indices (or subscripts) are required to specify a particular element within the array.\n",
    "\n",
    "**2. Pinpointing an Element:** For example, consider a 2D array as a table with rows and columns. To access an element in this array, you need two pieces of information: the row index and the column index. This is why it's called a 2-dimensional array, as it requires 2 indices to pinpoint a specific element.\n",
    "\n",
    "**3. Not Solely Determined by Rows or Columns:** The dimensionality of an array is not determined solely by the number of rows or columns. Instead, it's determined by the number of indices required to access an element. Even if you have an array with many rows and columns, it can still be 2-dimensional if it requires only two indices.\n",
    "\n",
    "**4. For example, consider a 5x5 array.** If you need two indices (row and column) to access an element within this array, it's still a 2-dimensional array. The size of each dimension (rows, columns, etc.) doesn't dictate the array's dimensionality; rather, it's the number of indices you need to use to locate an element.\n",
    "\n",
    "**Overview:**\n",
    "In summary, the \"dimensionality\" of an array refers to the number of indices needed to specify an element's position within that array, and this concept is not directly tied to the number of rows or columns in the array.\n",
    "\n"
   ]
  },
  {
   "cell_type": "code",
   "execution_count": null,
   "metadata": {
    "id": "XxePnDdAQcl3"
   },
   "outputs": [],
   "source": []
  },
  {
   "cell_type": "markdown",
   "metadata": {
    "id": "5GTM3iOiRvSx"
   },
   "source": [
    "**Absolutely, here are code snippets for different 2D, 3D, and 4D arrays with comments to help you understand how indices work:**"
   ]
  },
  {
   "cell_type": "code",
   "execution_count": 45,
   "metadata": {
    "colab": {
     "base_uri": "https://localhost:8080/"
    },
    "id": "RCm-VL2aRwW2",
    "outputId": "24de3d3c-28a1-4504-e1a4-0aa4cf109424"
   },
   "outputs": [
    {
     "name": "stdout",
     "output_type": "stream",
     "text": [
      "Value at (1, 2): 7\n"
     ]
    }
   ],
   "source": [
    "# 2-Dimensional Array:\n",
    "import numpy as np\n",
    "\n",
    "# Creating a 2D array with 3 rows and 4 columns\n",
    "two_dim_array = np.array([[1, 2, 3, 4],\n",
    "                          [5, 6, 7, 8],\n",
    "                          [9, 10, 11, 12]])\n",
    "\n",
    "# Accessing elements using indices\n",
    "element_row = 1\n",
    "element_column = 2\n",
    "value = two_dim_array[element_row, element_column]  # Accessing the element at row 1, column 2\n",
    "print(\"Value at (1, 2):\", value)\n"
   ]
  },
  {
   "cell_type": "code",
   "execution_count": 46,
   "metadata": {
    "colab": {
     "base_uri": "https://localhost:8080/"
    },
    "id": "Xl7hPgMZR1P2",
    "outputId": "f4ec04da-4eb0-4892-fffe-70ab28d2f7c2"
   },
   "outputs": [
    {
     "data": {
      "text/plain": [
       "array([[ 1,  2,  3,  4],\n",
       "       [ 5,  6,  7,  8],\n",
       "       [ 9, 10, 11, 12]])"
      ]
     },
     "execution_count": 46,
     "metadata": {},
     "output_type": "execute_result"
    }
   ],
   "source": [
    "two_dim_array"
   ]
  },
  {
   "cell_type": "code",
   "execution_count": 47,
   "metadata": {
    "colab": {
     "base_uri": "https://localhost:8080/"
    },
    "id": "aDKkvqcmR6St",
    "outputId": "fddca5c1-0288-44c7-a3e7-b8e1a04527ad"
   },
   "outputs": [
    {
     "name": "stdout",
     "output_type": "stream",
     "text": [
      "Value at (0, 1, 3): 8\n"
     ]
    }
   ],
   "source": [
    "# 3-Dimensional Array:\n",
    "import numpy as np\n",
    "\n",
    "# Creating a 3D array with 2 \"layers\", 3 rows, and 4 columns\n",
    "three_dim_array = np.array([[[1, 2, 3, 4],\n",
    "                             [5, 6, 7, 8],\n",
    "                             [9, 10, 11, 12]],\n",
    "\n",
    "                            [[13, 14, 15, 16],\n",
    "                             [17, 18, 19, 20],\n",
    "                             [21, 22, 23, 24]]])\n",
    "\n",
    "# Accessing elements using indices\n",
    "layer = 0\n",
    "row = 1\n",
    "column = 3\n",
    "value = three_dim_array[layer, row, column]  # Accessing the element at layer 0, row 1, column 3\n",
    "print(\"Value at (0, 1, 3):\", value)\n"
   ]
  },
  {
   "cell_type": "code",
   "execution_count": 48,
   "metadata": {
    "colab": {
     "base_uri": "https://localhost:8080/"
    },
    "id": "uyaHqklwSLZp",
    "outputId": "60271f3d-8167-4b59-de56-617acbb0128d"
   },
   "outputs": [
    {
     "data": {
      "text/plain": [
       "array([[[ 1,  2,  3,  4],\n",
       "        [ 5,  6,  7,  8],\n",
       "        [ 9, 10, 11, 12]],\n",
       "\n",
       "       [[13, 14, 15, 16],\n",
       "        [17, 18, 19, 20],\n",
       "        [21, 22, 23, 24]]])"
      ]
     },
     "execution_count": 48,
     "metadata": {},
     "output_type": "execute_result"
    }
   ],
   "source": [
    "three_dim_array"
   ]
  },
  {
   "cell_type": "code",
   "execution_count": 49,
   "metadata": {
    "colab": {
     "base_uri": "https://localhost:8080/"
    },
    "id": "_4aY_AxESNrI",
    "outputId": "7ca51dea-1044-4f09-a29f-9e350f598446"
   },
   "outputs": [
    {
     "name": "stdout",
     "output_type": "stream",
     "text": [
      "Value at (1, 0, 2, 1): 34\n"
     ]
    }
   ],
   "source": [
    "# 4-Dimensional Array:\n",
    "import numpy as np\n",
    "\n",
    "# Creating a 4D array with 2 \"sets\", each having 2 \"layers\", 3 rows, and 4 columns\n",
    "four_dim_array = np.array([[[[1, 2, 3, 4],\n",
    "                             [5, 6, 7, 8],\n",
    "                             [9, 10, 11, 12]],\n",
    "\n",
    "                            [[13, 14, 15, 16],\n",
    "                             [17, 18, 19, 20],\n",
    "                             [21, 22, 23, 24]]],\n",
    "\n",
    "                           [[[25, 26, 27, 28],\n",
    "                             [29, 30, 31, 32],\n",
    "                             [33, 34, 35, 36]],\n",
    "\n",
    "                            [[37, 38, 39, 40],\n",
    "                             [41, 42, 43, 44],\n",
    "                             [45, 46, 47, 48]]]])\n",
    "\n",
    "# Accessing elements using indices\n",
    "set_index = 1\n",
    "layer_index = 0\n",
    "row_index = 2\n",
    "column_index = 1\n",
    "value = four_dim_array[set_index, layer_index, row_index, column_index]  # Accessing the element in set 1, layer 0, row 2, column 1\n",
    "print(\"Value at (1, 0, 2, 1):\", value)\n"
   ]
  },
  {
   "cell_type": "code",
   "execution_count": 50,
   "metadata": {
    "colab": {
     "base_uri": "https://localhost:8080/"
    },
    "id": "KRhNrff1SRz-",
    "outputId": "5b87c7c3-03d9-4011-973b-38ace456e475"
   },
   "outputs": [
    {
     "data": {
      "text/plain": [
       "array([[[[ 1,  2,  3,  4],\n",
       "         [ 5,  6,  7,  8],\n",
       "         [ 9, 10, 11, 12]],\n",
       "\n",
       "        [[13, 14, 15, 16],\n",
       "         [17, 18, 19, 20],\n",
       "         [21, 22, 23, 24]]],\n",
       "\n",
       "\n",
       "       [[[25, 26, 27, 28],\n",
       "         [29, 30, 31, 32],\n",
       "         [33, 34, 35, 36]],\n",
       "\n",
       "        [[37, 38, 39, 40],\n",
       "         [41, 42, 43, 44],\n",
       "         [45, 46, 47, 48]]]])"
      ]
     },
     "execution_count": 50,
     "metadata": {},
     "output_type": "execute_result"
    }
   ],
   "source": [
    "four_dim_array"
   ]
  },
  {
   "cell_type": "code",
   "execution_count": null,
   "metadata": {
    "id": "fhM6ZlW2SUi4"
   },
   "outputs": [],
   "source": []
  },
  {
   "cell_type": "markdown",
   "metadata": {
    "id": "m1K_wtDCSboI"
   },
   "source": [
    "1. In these examples, the **indices correspond to the dimensions of the arrays.**\n",
    "\n",
    "2. The comments within the code snippets indicate **which index is used for each dimension** when accessing a specific element.\n",
    "\n",
    "3. This should help you understand how **indices work in different-dimensional arrays.**"
   ]
  },
  {
   "cell_type": "code",
   "execution_count": null,
   "metadata": {
    "id": "T1lQwyVBSb8W"
   },
   "outputs": [],
   "source": []
  }
 ],
 "metadata": {
  "colab": {
   "provenance": []
  },
  "kernelspec": {
   "display_name": "Python 3 (ipykernel)",
   "language": "python",
   "name": "python3"
  },
  "language_info": {
   "codemirror_mode": {
    "name": "ipython",
    "version": 3
   },
   "file_extension": ".py",
   "mimetype": "text/x-python",
   "name": "python",
   "nbconvert_exporter": "python",
   "pygments_lexer": "ipython3",
   "version": "3.10.2"
  }
 },
 "nbformat": 4,
 "nbformat_minor": 4
}
